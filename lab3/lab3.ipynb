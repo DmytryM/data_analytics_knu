{
 "cells": [
  {
   "cell_type": "code",
   "execution_count": 26,
   "id": "60d72ea8-d631-43ce-b62b-f608a7d1de90",
   "metadata": {
    "ExecuteTime": {
     "end_time": "2024-02-15T14:05:21.319437100Z",
     "start_time": "2024-02-15T14:05:21.242435300Z"
    }
   },
   "outputs": [
    {
     "data": {
      "text/plain": "'uk_UA'"
     },
     "execution_count": 26,
     "metadata": {},
     "output_type": "execute_result"
    }
   ],
   "source": [
    "import pandas as pd\n",
    "import statsmodels.api as sm\n",
    "import numpy as np\n",
    "import scipy.stats as st\n",
    "from tqdm import tqdm\n",
    "import locale\n",
    "import matplotlib.pyplot as plt\n",
    "locale.setlocale(locale.LC_NUMERIC, 'uk_UA')"
   ]
  },
  {
   "cell_type": "code",
   "execution_count": 27,
   "id": "c04938ac-ad2f-4f53-9581-13eea30d4d0a",
   "metadata": {
    "ExecuteTime": {
     "end_time": "2024-02-15T14:05:21.429943900Z",
     "start_time": "2024-02-15T14:05:21.258435700Z"
    }
   },
   "outputs": [],
   "source": [
    "data = pd.read_csv('https://raw.githubusercontent.com/Aranaur/aranaur.rbind.io/main/lectures/asa/labs/2023/data/bootstrap.csv', delimiter=';')"
   ]
  },
  {
   "cell_type": "code",
   "execution_count": 28,
   "id": "5be52573-2765-4509-a5da-0ff0d56547e0",
   "metadata": {
    "ExecuteTime": {
     "end_time": "2024-02-15T14:05:21.449951900Z",
     "start_time": "2024-02-15T14:05:21.430943900Z"
    }
   },
   "outputs": [
    {
     "name": "stdout",
     "output_type": "stream",
     "text": [
      "<class 'pandas.core.frame.DataFrame'>\n",
      "RangeIndex: 1000 entries, 0 to 999\n",
      "Data columns (total 3 columns):\n",
      " #   Column             Non-Null Count  Dtype \n",
      "---  ------             --------------  ----- \n",
      " 0   Unnamed: 0         1000 non-null   int64 \n",
      " 1   value              1000 non-null   object\n",
      " 2   experimentVariant  1000 non-null   object\n",
      "dtypes: int64(1), object(2)\n",
      "memory usage: 23.6+ KB\n"
     ]
    }
   ],
   "source": [
    "data.info()"
   ]
  },
  {
   "cell_type": "code",
   "execution_count": 29,
   "id": "eceb47cf-4581-4066-8175-0506f2e9a7a0",
   "metadata": {
    "ExecuteTime": {
     "end_time": "2024-02-15T14:05:21.487951200Z",
     "start_time": "2024-02-15T14:05:21.455951800Z"
    }
   },
   "outputs": [
    {
     "data": {
      "text/plain": "     Unnamed: 0             value experimentVariant\n0             1  10,3804953740268           Control\n1             2  9,54686666784264           Control\n2             3  11,0882146509904           Control\n3             4  10,1472740570122           Control\n4             5  9,78980767524929           Control\n..          ...               ...               ...\n990         991   10,916229376436         Treatment\n991         992  11,1608693155642         Treatment\n992         993  8,20251753625936         Treatment\n993         994   9,7821993531842         Treatment\n994         995   10,484967081742         Treatment\n\n[995 rows x 3 columns]",
      "text/html": "<div>\n<style scoped>\n    .dataframe tbody tr th:only-of-type {\n        vertical-align: middle;\n    }\n\n    .dataframe tbody tr th {\n        vertical-align: top;\n    }\n\n    .dataframe thead th {\n        text-align: right;\n    }\n</style>\n<table border=\"1\" class=\"dataframe\">\n  <thead>\n    <tr style=\"text-align: right;\">\n      <th></th>\n      <th>Unnamed: 0</th>\n      <th>value</th>\n      <th>experimentVariant</th>\n    </tr>\n  </thead>\n  <tbody>\n    <tr>\n      <th>0</th>\n      <td>1</td>\n      <td>10,3804953740268</td>\n      <td>Control</td>\n    </tr>\n    <tr>\n      <th>1</th>\n      <td>2</td>\n      <td>9,54686666784264</td>\n      <td>Control</td>\n    </tr>\n    <tr>\n      <th>2</th>\n      <td>3</td>\n      <td>11,0882146509904</td>\n      <td>Control</td>\n    </tr>\n    <tr>\n      <th>3</th>\n      <td>4</td>\n      <td>10,1472740570122</td>\n      <td>Control</td>\n    </tr>\n    <tr>\n      <th>4</th>\n      <td>5</td>\n      <td>9,78980767524929</td>\n      <td>Control</td>\n    </tr>\n    <tr>\n      <th>...</th>\n      <td>...</td>\n      <td>...</td>\n      <td>...</td>\n    </tr>\n    <tr>\n      <th>990</th>\n      <td>991</td>\n      <td>10,916229376436</td>\n      <td>Treatment</td>\n    </tr>\n    <tr>\n      <th>991</th>\n      <td>992</td>\n      <td>11,1608693155642</td>\n      <td>Treatment</td>\n    </tr>\n    <tr>\n      <th>992</th>\n      <td>993</td>\n      <td>8,20251753625936</td>\n      <td>Treatment</td>\n    </tr>\n    <tr>\n      <th>993</th>\n      <td>994</td>\n      <td>9,7821993531842</td>\n      <td>Treatment</td>\n    </tr>\n    <tr>\n      <th>994</th>\n      <td>995</td>\n      <td>10,484967081742</td>\n      <td>Treatment</td>\n    </tr>\n  </tbody>\n</table>\n<p>995 rows × 3 columns</p>\n</div>"
     },
     "execution_count": 29,
     "metadata": {},
     "output_type": "execute_result"
    }
   ],
   "source": [
    "data = data[:-5]\n",
    "data"
   ]
  },
  {
   "cell_type": "code",
   "execution_count": 30,
   "id": "5566d017-0a59-4cea-a4ee-f4ec056aa4db",
   "metadata": {
    "ExecuteTime": {
     "end_time": "2024-02-15T14:05:21.489951600Z",
     "start_time": "2024-02-15T14:05:21.462953500Z"
    }
   },
   "outputs": [
    {
     "data": {
      "text/plain": "0      10.380495\n1       9.546867\n2      11.088215\n3      10.147274\n4       9.789808\n         ...    \n495    10.973929\n496    10.261074\n497     8.780090\n498    11.169078\n499    11.499566\nName: value, Length: 500, dtype: float64"
     },
     "execution_count": 30,
     "metadata": {},
     "output_type": "execute_result"
    }
   ],
   "source": [
    "control = data[data[\"experimentVariant\"] == \"Control\"]['value'].apply(locale.atof)\n",
    "test = data[data[\"experimentVariant\"] == \"Treatment\"]['value'].apply(locale.atof)\n",
    "control"
   ]
  },
  {
   "cell_type": "code",
   "execution_count": 31,
   "id": "b6c0d368-47e2-4ec6-a9be-9930a9297a0b",
   "metadata": {
    "ExecuteTime": {
     "end_time": "2024-02-15T14:05:21.504950800Z",
     "start_time": "2024-02-15T14:05:21.478952100Z"
    }
   },
   "outputs": [
    {
     "data": {
      "text/plain": "500    10.380495\n501     9.546867\n502    11.088215\n503    10.147274\n504     9.789808\n         ...    \n990    10.916229\n991    11.160869\n992     8.202518\n993     9.782199\n994    10.484967\nName: value, Length: 495, dtype: float64"
     },
     "execution_count": 31,
     "metadata": {},
     "output_type": "execute_result"
    }
   ],
   "source": [
    "test"
   ]
  },
  {
   "cell_type": "code",
   "execution_count": 32,
   "id": "5863ed95-6f46-4e4c-9084-3ae5ac5c02e8",
   "metadata": {
    "ExecuteTime": {
     "end_time": "2024-02-15T14:05:21.536951400Z",
     "start_time": "2024-02-15T14:05:21.500951300Z"
    }
   },
   "outputs": [],
   "source": [
    "def get_bootstrap(\n",
    "    data_column_1, # числові значення першої вибірки\n",
    "    data_column_2, # числові значення другої вибірки\n",
    "    boot_it = 1000, # кількість ітерацій бутстрепа\n",
    "    statistic = np.mean, # яку статистику рахуємо\n",
    "    bootstrap_conf_level = 0.95 # рівень значущості\n",
    "):\n",
    "    boot_len = max([len(data_column_1), len(data_column_2)]) # довжина вибірки\n",
    "    boot_data = [] # будуватимемо розподіл тут\n",
    "    for i in tqdm(range(boot_it)): # створюємо підвибірки\n",
    "        samples_1 = data_column_1.sample(\n",
    "            boot_len, \n",
    "            replace = True # параметр повернення\n",
    "        ).values\n",
    "        \n",
    "        samples_2 = data_column_2.sample(\n",
    "            boot_len, \n",
    "            replace = True\n",
    "        ).values\n",
    "        \n",
    "        boot_data.append(statistic(samples_1-samples_2)) # рахуємо статистику\n",
    "        \n",
    "    pd_boot_data = pd.DataFrame(boot_data) # перетворюємо в датафрейм\n",
    "        \n",
    "    left_quant = (1 - bootstrap_conf_level)/2 # ліва квантиль\n",
    "    right_quant = 1 - (1 - bootstrap_conf_level) / 2 # права квантиль\n",
    "    ci = pd_boot_data.quantile([left_quant, right_quant]) # ДІ\n",
    "    # рахуємо p-value    \n",
    "    p_1 = st.norm.cdf(\n",
    "        x = 0, \n",
    "        loc = np.mean(boot_data), \n",
    "        scale = np.std(boot_data)\n",
    "    )\n",
    "    p_2 = st.norm.cdf(\n",
    "        x = 0, \n",
    "        loc = -np.mean(boot_data), \n",
    "        scale = np.std(boot_data)\n",
    "    )\n",
    "    p_value = min(p_1, p_2) * 2 # подвоюємо, бо двосторонній критерій\n",
    "        \n",
    "    # Візуалізуємо розподіл\n",
    "    plt.hist(pd_boot_data[0], bins = 50)\n",
    "    plt.vlines(ci, ymin=0, ymax=50, linestyle='--', color='red')\n",
    "    plt.xlabel('boot_data')\n",
    "    plt.ylabel('frequency')\n",
    "    plt.title(\"Histogram of boot_data\")\n",
    "    plt.show()\n",
    "       \n",
    "    return {\"boot_data\": boot_data, \n",
    "            \"ci\": ci, \n",
    "            \"p_value\": p_value}"
   ]
  },
  {
   "cell_type": "code",
   "execution_count": 32,
   "outputs": [],
   "source": [],
   "metadata": {
    "collapsed": false,
    "ExecuteTime": {
     "end_time": "2024-02-15T14:05:21.563951300Z",
     "start_time": "2024-02-15T14:05:21.509951300Z"
    }
   },
   "id": "2bfb6bedeb0f20b5"
  },
  {
   "cell_type": "code",
   "execution_count": 33,
   "id": "8e9ebc6c-3a58-493b-908f-844ed8f2d54d",
   "metadata": {
    "ExecuteTime": {
     "end_time": "2024-02-15T14:05:22.440925500Z",
     "start_time": "2024-02-15T14:05:21.527951700Z"
    }
   },
   "outputs": [
    {
     "name": "stderr",
     "output_type": "stream",
     "text": [
      "100%|██████████| 10000/10000 [00:00<00:00, 13792.59it/s]\n"
     ]
    },
    {
     "data": {
      "text/plain": "<Figure size 640x480 with 1 Axes>",
      "image/png": "[encoded data removed]"
     },
     "metadata": {},
     "output_type": "display_data"
    },
    {
     "name": "stdout",
     "output_type": "stream",
     "text": [
      "Значення p-value 0.9373433129935569\n",
      "Довірчий інтервал               0\n",
      "0.025 -0.116544\n",
      "0.975  0.123145\n"
     ]
    }
   ],
   "source": [
    "booted_data = get_bootstrap(\n",
    "    data_column_1=pd.Series(control), \n",
    "    data_column_2=pd.Series(test), \n",
    "    boot_it=10000, \n",
    "    statistic=np.average, \n",
    "    bootstrap_conf_level=0.95\n",
    ")\n",
    "\n",
    "print(f'Значення p-value {booted_data[\"p_value\"]}')\n",
    "print(f'Довірчий інтервал {booted_data[\"ci\"]}')"
   ]
  },
  {
   "cell_type": "code",
   "execution_count": 33,
   "outputs": [],
   "source": [],
   "metadata": {
    "collapsed": false,
    "ExecuteTime": {
     "end_time": "2024-02-15T14:05:22.441926700Z",
     "start_time": "2024-02-15T14:05:22.397004800Z"
    }
   },
   "id": "ec3c7acf97589469"
  },
  {
   "cell_type": "code",
   "execution_count": 34,
   "id": "4639931d-08f7-47db-ad4a-c132297d6cfa",
   "metadata": {
    "ExecuteTime": {
     "end_time": "2024-02-15T14:05:22.466925600Z",
     "start_time": "2024-02-15T14:05:22.410051400Z"
    }
   },
   "outputs": [
    {
     "name": "stdout",
     "output_type": "stream",
     "text": [
      "Statistics=124189.500, p=0.923\n"
     ]
    }
   ],
   "source": [
    "stat, p = st.mannwhitneyu(control, test)\n",
    "print('Statistics=%.3f, p=%.3f' % (stat, p))"
   ]
  },
  {
   "cell_type": "code",
   "execution_count": 34,
   "outputs": [],
   "source": [],
   "metadata": {
    "collapsed": false,
    "ExecuteTime": {
     "end_time": "2024-02-15T14:05:22.467924900Z",
     "start_time": "2024-02-15T14:05:22.426999600Z"
    }
   },
   "id": "805d99c515a0f934"
  },
  {
   "cell_type": "code",
   "execution_count": 34,
   "outputs": [],
   "source": [],
   "metadata": {
    "collapsed": false,
    "ExecuteTime": {
     "end_time": "2024-02-15T14:05:22.469947300Z",
     "start_time": "2024-02-15T14:05:22.441926700Z"
    }
   },
   "id": "dc032a93ddc3bd2"
  },
  {
   "cell_type": "code",
   "execution_count": 35,
   "id": "80ea5dd3-6b15-42c4-b76c-b29d0c32fd33",
   "metadata": {
    "ExecuteTime": {
     "end_time": "2024-02-15T14:05:23.549751800Z",
     "start_time": "2024-02-15T14:05:22.457925600Z"
    }
   },
   "outputs": [
    {
     "name": "stderr",
     "output_type": "stream",
     "text": [
      "100%|██████████| 10000/10000 [00:00<00:00, 10662.94it/s]\n"
     ]
    },
    {
     "data": {
      "text/plain": "<Figure size 640x480 with 1 Axes>",
      "image/png": "[encoded data removed]"
     },
     "metadata": {},
     "output_type": "display_data"
    },
    {
     "name": "stdout",
     "output_type": "stream",
     "text": [
      "Значення p-value 0.9376640035283517\n",
      "Довірчий інтервал               0\n",
      "0.025 -0.141278\n",
      "0.975  0.150902\n"
     ]
    }
   ],
   "source": [
    "booted_data = get_bootstrap(\n",
    "    data_column_1=pd.Series(control), \n",
    "    data_column_2=pd.Series(test), \n",
    "    boot_it=10000, \n",
    "    statistic=np.median, \n",
    "    bootstrap_conf_level=0.95\n",
    ")\n",
    "\n",
    "print(f'Значення p-value {booted_data[\"p_value\"]}')\n",
    "print(f'Довірчий інтервал {booted_data[\"ci\"]}')"
   ]
  },
  {
   "cell_type": "code",
   "execution_count": 36,
   "id": "abdfa344-8a5d-4970-9733-0df08acfe0aa",
   "metadata": {
    "ExecuteTime": {
     "end_time": "2024-02-15T14:05:23.568754300Z",
     "start_time": "2024-02-15T14:05:23.550752200Z"
    }
   },
   "outputs": [
    {
     "name": "stdout",
     "output_type": "stream",
     "text": [
      "Statistics=124189.500, p=0.923\n"
     ]
    }
   ],
   "source": [
    "stat, p = st.mannwhitneyu(control, test)\n",
    "print('Statistics=%.3f, p=%.3f' % (stat, p))"
   ]
  },
  {
   "cell_type": "code",
   "execution_count": 36,
   "id": "5b1cc87f-c4a5-472c-9eef-e7ee3ea3b1f5",
   "metadata": {
    "ExecuteTime": {
     "end_time": "2024-02-15T14:05:23.620034900Z",
     "start_time": "2024-02-15T14:05:23.564751700Z"
    }
   },
   "outputs": [],
   "source": []
  },
  {
   "cell_type": "code",
   "execution_count": 36,
   "outputs": [],
   "source": [],
   "metadata": {
    "collapsed": false,
    "ExecuteTime": {
     "end_time": "2024-02-15T14:05:23.620751500Z",
     "start_time": "2024-02-15T14:05:23.579751500Z"
    }
   },
   "id": "6589fa4fb42202c"
  }
 ],
 "metadata": {
  "kernelspec": {
   "display_name": "Python 3 (ipykernel)",
   "language": "python",
   "name": "python3"
  },
  "language_info": {
   "codemirror_mode": {
    "name": "ipython",
    "version": 3
   },
   "file_extension": ".py",
   "mimetype": "text/x-python",
   "name": "python",
   "nbconvert_exporter": "python",
   "pygments_lexer": "ipython3",
   "version": "3.12.1"
  }
 },
 "nbformat": 4,
 "nbformat_minor": 5
}
