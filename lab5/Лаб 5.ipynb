{
 "cells": [
  {
   "cell_type": "code",
   "execution_count": 125,
   "id": "initial_id",
   "metadata": {
    "collapsed": true,
    "ExecuteTime": {
     "end_time": "2024-05-04T00:31:37.620002100Z",
     "start_time": "2024-05-04T00:31:37.606048900Z"
    }
   },
   "outputs": [],
   "source": [
    "import pandas as pd\n",
    "from datetime import timedelta\n",
    "from scipy.stats import shapiro, mannwhitneyu, kruskal\n",
    "from sklearn.model_selection import train_test_split\n",
    "from sklearn.ensemble import RandomForestClassifier\n",
    "import seaborn as sns\n",
    "import matplotlib.pyplot as plt"
   ]
  },
  {
   "cell_type": "code",
   "execution_count": 68,
   "outputs": [],
   "source": [
    "data = pd.read_csv(r'D:\\Projects_py\\stepik_adv_py\\lab5\\churn.csv')"
   ],
   "metadata": {
    "collapsed": false,
    "ExecuteTime": {
     "end_time": "2024-05-03T23:16:59.836186800Z",
     "start_time": "2024-05-03T23:16:59.750463900Z"
    }
   },
   "id": "e087e426b1f3cadf"
  },
  {
   "cell_type": "code",
   "execution_count": 69,
   "outputs": [],
   "source": [
    "# Перетворюємо стовпці з датами у тип datetime\n",
    "data['last_trip_date'] = pd.to_datetime(data['last_trip_date'])\n",
    "data['signup_date'] = pd.to_datetime(data['signup_date'])"
   ],
   "metadata": {
    "collapsed": false,
    "ExecuteTime": {
     "end_time": "2024-05-03T23:16:59.837182300Z",
     "start_time": "2024-05-03T23:16:59.814251500Z"
    }
   },
   "id": "2190d64766824914"
  },
  {
   "cell_type": "code",
   "execution_count": 70,
   "outputs": [],
   "source": [
    "# Визначаємо максимальну дату останньої поїздки\n",
    "max_last_trip_date = data['last_trip_date'].max()"
   ],
   "metadata": {
    "collapsed": false,
    "ExecuteTime": {
     "end_time": "2024-05-03T23:16:59.850134100Z",
     "start_time": "2024-05-03T23:16:59.831194600Z"
    }
   },
   "id": "18f9858fa522370d"
  },
  {
   "cell_type": "code",
   "execution_count": 71,
   "outputs": [],
   "source": [
    "# Визначаємо, чи водій залишив сервіс\n",
    "data['churn'] = (max_last_trip_date - data['last_trip_date']) > timedelta(days=30)"
   ],
   "metadata": {
    "collapsed": false,
    "ExecuteTime": {
     "end_time": "2024-05-03T23:16:59.862093500Z",
     "start_time": "2024-05-03T23:16:59.848165700Z"
    }
   },
   "id": "659821d800b2234d"
  },
  {
   "cell_type": "code",
   "execution_count": 130,
   "outputs": [
    {
     "data": {
      "text/plain": "   avg_dist  avg_rating_by_driver  avg_rating_of_driver  avg_surge  \\\n0      3.67                   5.0                   4.7       1.10   \n1      8.26                   5.0                   5.0       1.00   \n2      0.77                   5.0                   4.3       1.00   \n3      2.36                   4.9                   4.6       1.14   \n4      3.13                   4.9                   4.4       1.19   \n\n             city last_trip_date    phone signup_date  surge_pct  \\\n0  King's Landing     2014-06-17   iPhone  2014-01-25       15.4   \n1         Astapor     2014-05-05  Android  2014-01-29        0.0   \n2         Astapor     2014-01-07   iPhone  2014-01-06        0.0   \n3  King's Landing     2014-06-29   iPhone  2014-01-10       20.0   \n4      Winterfell     2014-03-15  Android  2014-01-27       11.8   \n\n   trips_in_first_30_days  luxury_car_user  weekday_pct  churn  \n0                       4             True         46.2  False  \n1                       0            False         50.0   True  \n2                       3            False        100.0   True  \n3                       9             True         80.0  False  \n4                      14            False         82.4   True  ",
      "text/html": "<div>\n<style scoped>\n    .dataframe tbody tr th:only-of-type {\n        vertical-align: middle;\n    }\n\n    .dataframe tbody tr th {\n        vertical-align: top;\n    }\n\n    .dataframe thead th {\n        text-align: right;\n    }\n</style>\n<table border=\"1\" class=\"dataframe\">\n  <thead>\n    <tr style=\"text-align: right;\">\n      <th></th>\n      <th>avg_dist</th>\n      <th>avg_rating_by_driver</th>\n      <th>avg_rating_of_driver</th>\n      <th>avg_surge</th>\n      <th>city</th>\n      <th>last_trip_date</th>\n      <th>phone</th>\n      <th>signup_date</th>\n      <th>surge_pct</th>\n      <th>trips_in_first_30_days</th>\n      <th>luxury_car_user</th>\n      <th>weekday_pct</th>\n      <th>churn</th>\n    </tr>\n  </thead>\n  <tbody>\n    <tr>\n      <th>0</th>\n      <td>3.67</td>\n      <td>5.0</td>\n      <td>4.7</td>\n      <td>1.10</td>\n      <td>King's Landing</td>\n      <td>2014-06-17</td>\n      <td>iPhone</td>\n      <td>2014-01-25</td>\n      <td>15.4</td>\n      <td>4</td>\n      <td>True</td>\n      <td>46.2</td>\n      <td>False</td>\n    </tr>\n    <tr>\n      <th>1</th>\n      <td>8.26</td>\n      <td>5.0</td>\n      <td>5.0</td>\n      <td>1.00</td>\n      <td>Astapor</td>\n      <td>2014-05-05</td>\n      <td>Android</td>\n      <td>2014-01-29</td>\n      <td>0.0</td>\n      <td>0</td>\n      <td>False</td>\n      <td>50.0</td>\n      <td>True</td>\n    </tr>\n    <tr>\n      <th>2</th>\n      <td>0.77</td>\n      <td>5.0</td>\n      <td>4.3</td>\n      <td>1.00</td>\n      <td>Astapor</td>\n      <td>2014-01-07</td>\n      <td>iPhone</td>\n      <td>2014-01-06</td>\n      <td>0.0</td>\n      <td>3</td>\n      <td>False</td>\n      <td>100.0</td>\n      <td>True</td>\n    </tr>\n    <tr>\n      <th>3</th>\n      <td>2.36</td>\n      <td>4.9</td>\n      <td>4.6</td>\n      <td>1.14</td>\n      <td>King's Landing</td>\n      <td>2014-06-29</td>\n      <td>iPhone</td>\n      <td>2014-01-10</td>\n      <td>20.0</td>\n      <td>9</td>\n      <td>True</td>\n      <td>80.0</td>\n      <td>False</td>\n    </tr>\n    <tr>\n      <th>4</th>\n      <td>3.13</td>\n      <td>4.9</td>\n      <td>4.4</td>\n      <td>1.19</td>\n      <td>Winterfell</td>\n      <td>2014-03-15</td>\n      <td>Android</td>\n      <td>2014-01-27</td>\n      <td>11.8</td>\n      <td>14</td>\n      <td>False</td>\n      <td>82.4</td>\n      <td>True</td>\n    </tr>\n  </tbody>\n</table>\n</div>"
     },
     "execution_count": 130,
     "metadata": {},
     "output_type": "execute_result"
    }
   ],
   "source": [
    "data.head()"
   ],
   "metadata": {
    "collapsed": false,
    "ExecuteTime": {
     "end_time": "2024-05-04T00:33:55.079561400Z",
     "start_time": "2024-05-04T00:33:55.006807700Z"
    }
   },
   "id": "3cb6fdd478e847e"
  },
  {
   "cell_type": "code",
   "execution_count": 93,
   "outputs": [
    {
     "name": "stdout",
     "output_type": "stream",
     "text": [
      "Statistic: 0.7085769176483154\n",
      "p-value: 0.0\n"
     ]
    },
    {
     "name": "stderr",
     "output_type": "stream",
     "text": [
      "c:\\users\\dmytro\\appdata\\local\\programs\\python\\python38\\lib\\site-packages\\scipy\\stats\\_morestats.py:1816: UserWarning: p-value may not be accurate for N > 5000.\n",
      "  warnings.warn(\"p-value may not be accurate for N > 5000.\")\n"
     ]
    }
   ],
   "source": [
    "# Перевірка на нормальність розподілу змінної avg_dist\n",
    "shapiro_stat, shapiro_p = shapiro(data['avg_dist'])\n",
    "print(\"Statistic:\", shapiro_stat)\n",
    "print(\"p-value:\", shapiro_p)"
   ],
   "metadata": {
    "collapsed": false,
    "ExecuteTime": {
     "end_time": "2024-05-03T23:57:10.866211800Z",
     "start_time": "2024-05-03T23:57:10.839451300Z"
    }
   },
   "id": "72e75ed1eb4ebfe5"
  },
  {
   "cell_type": "markdown",
   "source": [
    "*Досить великий обсяг даних > 5000. Розрахунок p-value стає більш складним, і приблизне p-значення може бути менш точним.*"
   ],
   "metadata": {
    "collapsed": false
   },
   "id": "7f78568371768b51"
  },
  {
   "cell_type": "code",
   "execution_count": 94,
   "outputs": [
    {
     "name": "stdout",
     "output_type": "stream",
     "text": [
      "Statistic: 305402333.0\n",
      "p-value: 1.0105756877386522e-14\n"
     ]
    }
   ],
   "source": [
    "# Порівняння двох груп за допомогою критерію Манна-Уітні\n",
    "mannwhitney_stat, mannwhitney_p = mannwhitneyu(data[data['churn']]['avg_dist'], data[~data['churn']]['avg_dist'])\n",
    "print(\"Statistic:\", mannwhitney_stat)\n",
    "print(\"p-value:\", mannwhitney_p)"
   ],
   "metadata": {
    "collapsed": false,
    "ExecuteTime": {
     "end_time": "2024-05-03T23:57:12.032568200Z",
     "start_time": "2024-05-03T23:57:11.981738600Z"
    }
   },
   "id": "8396a7e2e25590cd"
  },
  {
   "cell_type": "markdown",
   "source": [
    "*Порівняння змінної avg_dist між групами відтоку та невідтоку показав статистично значущу різницю між цими групами (p-value < 0.05). Це означає, що середня відстань для водіїв, які залишають сервіс, може бути статистично відмінною від середньої відстані для водіїв, які відтікають.*"
   ],
   "metadata": {
    "collapsed": false
   },
   "id": "34784ed5d6a8a6cc"
  },
  {
   "cell_type": "code",
   "execution_count": 95,
   "outputs": [
    {
     "name": "stdout",
     "output_type": "stream",
     "text": [
      "Statistic: 71.96270699824255\n",
      "p-value: 2.3631795725602523e-16\n"
     ]
    }
   ],
   "source": [
    "# Порівняння більш ніж двох груп за допомогою критерію Крускала-Уолліса\n",
    "kruskal_stat, kruskal_p = kruskal(data[data['city']==\"King's Landing\"]['avg_dist'],\n",
    "                                   data[data['city']==\"Astapor\"]['avg_dist'],\n",
    "                                   data[data['city']==\"Winterfell\"]['avg_dist'])\n",
    "print(\"Statistic:\", kruskal_stat)\n",
    "print(\"p-value:\", kruskal_p)"
   ],
   "metadata": {
    "collapsed": false,
    "ExecuteTime": {
     "end_time": "2024-05-03T23:57:32.799230900Z",
     "start_time": "2024-05-03T23:57:32.748388300Z"
    }
   },
   "id": "d2f5d2dbb5f52cf9"
  },
  {
   "cell_type": "markdown",
   "source": [
    "*Для порівняння змінної avg_dist серед різних міст показав, що існують статистично значущі різниці між цими містами (p-value < 0.05). Це означає, що середня відстань може різнитися в залежності від міста, в якому працюють водії.*"
   ],
   "metadata": {
    "collapsed": false
   },
   "id": "a75c92b20a41fa86"
  },
  {
   "cell_type": "code",
   "execution_count": 91,
   "outputs": [],
   "source": [
    "# Чи є різниця в активності в перші 30 днів з моменту реєстрації між водіями з різних міст? (city, trips_in_first_30_days)\n",
    "# Розділення даних за містами\n",
    "city_groups = [data[data['city'] == city]['trips_in_first_30_days'] for city in data['city'].unique()]"
   ],
   "metadata": {
    "collapsed": false,
    "ExecuteTime": {
     "end_time": "2024-05-03T23:56:37.973999100Z",
     "start_time": "2024-05-03T23:56:37.939032500Z"
    }
   },
   "id": "8bf6b0257ed2d42c"
  },
  {
   "cell_type": "code",
   "execution_count": 128,
   "outputs": [
    {
     "data": {
      "text/plain": "<Figure size 640x480 with 1 Axes>",
      "image/png": "[encoded data removed]"
     },
     "metadata": {},
     "output_type": "display_data"
    }
   ],
   "source": [
    "sns.histplot(data=data, x='trips_in_first_30_days', hue='city', bins=range(0, 20))\n",
    "plt.xticks(range(0, 20))  # Задання значень для міток осі x\n",
    "plt.show()"
   ],
   "metadata": {
    "collapsed": false,
    "ExecuteTime": {
     "end_time": "2024-05-04T00:32:09.998768900Z",
     "start_time": "2024-05-04T00:32:09.746586Z"
    }
   },
   "id": "b5e143e70512051"
  },
  {
   "cell_type": "code",
   "execution_count": 108,
   "outputs": [
    {
     "name": "stdout",
     "output_type": "stream",
     "text": [
      "H-statistic: 221.32105325317454\n",
      "p-value: 8.724567791938856e-49\n"
     ]
    }
   ],
   "source": [
    "# Проведення тесту Крускала-Уолліса\n",
    "kruskal_statistic, kruskal_p_value = kruskal(*city_groups)\n",
    "print(\"H-statistic:\", kruskal_statistic)\n",
    "print(\"p-value:\", kruskal_p_value)"
   ],
   "metadata": {
    "collapsed": false,
    "ExecuteTime": {
     "end_time": "2024-05-04T00:07:29.896446900Z",
     "start_time": "2024-05-04T00:07:29.874439500Z"
    }
   },
   "id": "ba4d4cd5cf7be8ce"
  },
  {
   "cell_type": "code",
   "execution_count": 123,
   "outputs": [
    {
     "data": {
      "text/plain": "             city      mean  count\n0         Astapor  1.948651  16534\n1  King's Landing  2.463672  10130\n2      Winterfell  2.431179  23336",
      "text/html": "<div>\n<style scoped>\n    .dataframe tbody tr th:only-of-type {\n        vertical-align: middle;\n    }\n\n    .dataframe tbody tr th {\n        vertical-align: top;\n    }\n\n    .dataframe thead th {\n        text-align: right;\n    }\n</style>\n<table border=\"1\" class=\"dataframe\">\n  <thead>\n    <tr style=\"text-align: right;\">\n      <th></th>\n      <th>city</th>\n      <th>mean</th>\n      <th>count</th>\n    </tr>\n  </thead>\n  <tbody>\n    <tr>\n      <th>0</th>\n      <td>Astapor</td>\n      <td>1.948651</td>\n      <td>16534</td>\n    </tr>\n    <tr>\n      <th>1</th>\n      <td>King's Landing</td>\n      <td>2.463672</td>\n      <td>10130</td>\n    </tr>\n    <tr>\n      <th>2</th>\n      <td>Winterfell</td>\n      <td>2.431179</td>\n      <td>23336</td>\n    </tr>\n  </tbody>\n</table>\n</div>"
     },
     "execution_count": 123,
     "metadata": {},
     "output_type": "execute_result"
    }
   ],
   "source": [
    "data.groupby(by='city', as_index=False).agg(\n",
    "    mean=('trips_in_first_30_days','mean'),\n",
    "    count=('trips_in_first_30_days','count')\n",
    ")"
   ],
   "metadata": {
    "collapsed": false,
    "ExecuteTime": {
     "end_time": "2024-05-04T00:25:46.530047900Z",
     "start_time": "2024-05-04T00:25:46.498153300Z"
    }
   },
   "id": "59c34fa663c70672"
  },
  {
   "cell_type": "markdown",
   "source": [
    "*p-value < 0.05 різниця є статистично значуща*"
   ],
   "metadata": {
    "collapsed": false
   },
   "id": "f31ec363ffa9d08e"
  },
  {
   "cell_type": "code",
   "execution_count": 106,
   "outputs": [],
   "source": [
    "# Чи може відтік бути пов’язаний з активністю в перші 30 днів після реєстрації? (churn, trips_in_first_30_days)\n",
    "# Розділення даних за відтоком\n",
    "churn_groups = [data[data['churn'] == churn]['trips_in_first_30_days'] for churn in data['churn'].unique()]"
   ],
   "metadata": {
    "collapsed": false,
    "ExecuteTime": {
     "end_time": "2024-05-04T00:06:30.086994Z",
     "start_time": "2024-05-04T00:06:30.066064100Z"
    }
   },
   "id": "6cae9fe216edf0ff"
  },
  {
   "cell_type": "code",
   "execution_count": 129,
   "outputs": [
    {
     "data": {
      "text/plain": "<Figure size 640x480 with 1 Axes>",
      "image/png": "[encoded data removed]"
     },
     "metadata": {},
     "output_type": "display_data"
    }
   ],
   "source": [
    "sns.histplot(data=data, x='trips_in_first_30_days', hue='churn', bins=range(0, 20))\n",
    "plt.xticks(range(0, 20))  # Задання значень для міток осі x\n",
    "plt.show()"
   ],
   "metadata": {
    "collapsed": false,
    "ExecuteTime": {
     "end_time": "2024-05-04T00:32:53.767411100Z",
     "start_time": "2024-05-04T00:32:53.556853100Z"
    }
   },
   "id": "bfd772712ac11347"
  },
  {
   "cell_type": "code",
   "execution_count": 110,
   "outputs": [
    {
     "name": "stdout",
     "output_type": "stream",
     "text": [
      "Kruskal-Wallis test for comparing means (trips_in_first_30_days) between churn and non-churn groups:\n",
      "H-statistic: 1484.2728573059323\n",
      "p-value: 0.0\n"
     ]
    }
   ],
   "source": [
    "# Проведення тесту Крускала-Уолліса\n",
    "kruskal_statistic, kruskal_p_value = kruskal(*churn_groups)\n",
    "print(\"Kruskal-Wallis test for comparing means (trips_in_first_30_days) between churn and non-churn groups:\")\n",
    "print(\"H-statistic:\", kruskal_statistic)\n",
    "print(\"p-value:\", kruskal_p_value)"
   ],
   "metadata": {
    "collapsed": false,
    "ExecuteTime": {
     "end_time": "2024-05-04T00:11:49.239196400Z",
     "start_time": "2024-05-04T00:11:49.218306700Z"
    }
   },
   "id": "2739aae0b1917322"
  },
  {
   "cell_type": "code",
   "execution_count": 124,
   "outputs": [
    {
     "data": {
      "text/plain": "   churn      mean  count\n0  False  3.306318  18804\n1   True  1.658482  31196",
      "text/html": "<div>\n<style scoped>\n    .dataframe tbody tr th:only-of-type {\n        vertical-align: middle;\n    }\n\n    .dataframe tbody tr th {\n        vertical-align: top;\n    }\n\n    .dataframe thead th {\n        text-align: right;\n    }\n</style>\n<table border=\"1\" class=\"dataframe\">\n  <thead>\n    <tr style=\"text-align: right;\">\n      <th></th>\n      <th>churn</th>\n      <th>mean</th>\n      <th>count</th>\n    </tr>\n  </thead>\n  <tbody>\n    <tr>\n      <th>0</th>\n      <td>False</td>\n      <td>3.306318</td>\n      <td>18804</td>\n    </tr>\n    <tr>\n      <th>1</th>\n      <td>True</td>\n      <td>1.658482</td>\n      <td>31196</td>\n    </tr>\n  </tbody>\n</table>\n</div>"
     },
     "execution_count": 124,
     "metadata": {},
     "output_type": "execute_result"
    }
   ],
   "source": [
    "data.groupby(by='churn', as_index=False).agg(\n",
    "    mean=('trips_in_first_30_days','mean'),\n",
    "    count=('trips_in_first_30_days','count')\n",
    ")"
   ],
   "metadata": {
    "collapsed": false,
    "ExecuteTime": {
     "end_time": "2024-05-04T00:25:55.598336700Z",
     "start_time": "2024-05-04T00:25:55.565409300Z"
    }
   },
   "id": "e458fdc40e27dda2"
  },
  {
   "cell_type": "markdown",
   "source": [
    "*Відтік може бути пов'язаний з активністю*"
   ],
   "metadata": {
    "collapsed": false
   },
   "id": "dc2867c85b8df21e"
  },
  {
   "cell_type": "code",
   "execution_count": 83,
   "outputs": [
    {
     "name": "stderr",
     "output_type": "stream",
     "text": [
      "C:\\Users\\Dmytro\\AppData\\Local\\Temp\\ipykernel_6404\\4040138076.py:6: SettingWithCopyWarning: \n",
      "A value is trying to be set on a copy of a slice from a DataFrame\n",
      "\n",
      "See the caveats in the documentation: https://pandas.pydata.org/pandas-docs/stable/user_guide/indexing.html#returning-a-view-versus-a-copy\n",
      "  X['avg_rating_by_driver'].fillna(X['avg_rating_by_driver'].mean(), inplace=True)\n",
      "C:\\Users\\Dmytro\\AppData\\Local\\Temp\\ipykernel_6404\\4040138076.py:7: SettingWithCopyWarning: \n",
      "A value is trying to be set on a copy of a slice from a DataFrame\n",
      "\n",
      "See the caveats in the documentation: https://pandas.pydata.org/pandas-docs/stable/user_guide/indexing.html#returning-a-view-versus-a-copy\n",
      "  X['avg_rating_of_driver'].fillna(X['avg_rating_of_driver'].mean(), inplace=True)\n",
      "C:\\Users\\Dmytro\\AppData\\Local\\Temp\\ipykernel_6404\\4040138076.py:8: SettingWithCopyWarning: \n",
      "A value is trying to be set on a copy of a slice from a DataFrame\n",
      "\n",
      "See the caveats in the documentation: https://pandas.pydata.org/pandas-docs/stable/user_guide/indexing.html#returning-a-view-versus-a-copy\n",
      "  X['avg_dist'].fillna(X['avg_dist'].mean(), inplace=True)\n",
      "C:\\Users\\Dmytro\\AppData\\Local\\Temp\\ipykernel_6404\\4040138076.py:9: SettingWithCopyWarning: \n",
      "A value is trying to be set on a copy of a slice from a DataFrame\n",
      "\n",
      "See the caveats in the documentation: https://pandas.pydata.org/pandas-docs/stable/user_guide/indexing.html#returning-a-view-versus-a-copy\n",
      "  X['city'].fillna(X['city'].mode()[0], inplace=True)\n"
     ]
    }
   ],
   "source": [
    "X = data[['trips_in_first_30_days', 'avg_rating_by_driver', 'avg_rating_of_driver', 'avg_dist', 'surge_pct', 'weekday_pct', 'luxury_car_user', 'city']]\n",
    "y = data['churn']\n",
    "\n",
    "X['avg_rating_by_driver'].fillna(X['avg_rating_by_driver'].mean(), inplace=True)\n",
    "X['avg_rating_of_driver'].fillna(X['avg_rating_of_driver'].mean(), inplace=True)\n",
    "X['avg_dist'].fillna(X['avg_dist'].mean(), inplace=True)\n",
    "X['city'].fillna(X['city'].mode()[0], inplace=True)"
   ],
   "metadata": {
    "collapsed": false,
    "ExecuteTime": {
     "end_time": "2024-05-03T23:17:19.725445100Z",
     "start_time": "2024-05-03T23:17:19.684581700Z"
    }
   },
   "id": "e74cdc6b12b46ea6"
  },
  {
   "cell_type": "code",
   "execution_count": 84,
   "outputs": [],
   "source": [
    "# Закодування категоріальних змінних\n",
    "X = pd.get_dummies(X)"
   ],
   "metadata": {
    "collapsed": false,
    "ExecuteTime": {
     "end_time": "2024-05-03T23:17:25.505184900Z",
     "start_time": "2024-05-03T23:17:25.482260900Z"
    }
   },
   "id": "9f6273e574655b"
  },
  {
   "cell_type": "code",
   "execution_count": 111,
   "outputs": [],
   "source": [
    "X_train, X_test, y_train, y_test = train_test_split(X, y, test_size=0.2, random_state=42)\n",
    "\n",
    "rf_classifier = RandomForestClassifier(n_estimators=100, random_state=42)\n",
    "rf_classifier.fit(X_train, y_train)\n",
    "\n",
    "y_pred = rf_classifier.predict(X_test)"
   ],
   "metadata": {
    "collapsed": false,
    "ExecuteTime": {
     "end_time": "2024-05-04T00:16:13.471879600Z",
     "start_time": "2024-05-04T00:16:07.027397400Z"
    }
   },
   "id": "711ae389c4cd935a"
  },
  {
   "cell_type": "code",
   "execution_count": 131,
   "outputs": [
    {
     "name": "stdout",
     "output_type": "stream",
     "text": [
      "                  feature  importance\n",
      "3                avg_dist    0.336926\n",
      "5             weekday_pct    0.151222\n",
      "1    avg_rating_by_driver    0.122509\n",
      "4               surge_pct    0.105863\n",
      "2    avg_rating_of_driver    0.086506\n",
      "0  trips_in_first_30_days    0.086178\n",
      "8     city_King's Landing    0.051791\n",
      "6         luxury_car_user    0.033416\n",
      "7            city_Astapor    0.014030\n",
      "9         city_Winterfell    0.011559\n"
     ]
    }
   ],
   "source": [
    "feature_importances = pd.DataFrame({'feature': X.columns, 'importance': rf_classifier.feature_importances_}).sort_values(by='importance', ascending=False)\n",
    "print(feature_importances)"
   ],
   "metadata": {
    "collapsed": false,
    "ExecuteTime": {
     "end_time": "2024-05-04T00:36:14.521940Z",
     "start_time": "2024-05-04T00:36:14.484059Z"
    }
   },
   "id": "decc3219c6aaebca"
  }
 ],
 "metadata": {
  "kernelspec": {
   "display_name": "Python 3",
   "language": "python",
   "name": "python3"
  },
  "language_info": {
   "codemirror_mode": {
    "name": "ipython",
    "version": 2
   },
   "file_extension": ".py",
   "mimetype": "text/x-python",
   "name": "python",
   "nbconvert_exporter": "python",
   "pygments_lexer": "ipython2",
   "version": "2.7.6"
  }
 },
 "nbformat": 4,
 "nbformat_minor": 5
}
