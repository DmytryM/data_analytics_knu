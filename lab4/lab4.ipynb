{
 "cells": [
  {
   "cell_type": "code",
   "execution_count": 1,
   "id": "initial_id",
   "metadata": {
    "collapsed": true,
    "ExecuteTime": {
     "end_time": "2024-05-03T20:00:48.005472900Z",
     "start_time": "2024-05-03T20:00:47.989525500Z"
    }
   },
   "outputs": [],
   "source": [
    "import pandas as pd\n",
    "import numpy as np\n",
    "from scipy.stats import mannwhitneyu\n",
    "import seaborn as sns\n",
    "from scipy.stats import ttest_ind"
   ]
  },
  {
   "cell_type": "code",
   "execution_count": 2,
   "outputs": [],
   "source": [
    "imported_data = pd.read_csv('https://aranaur.quarto.pub/asa-2324-04-lab/data/aa.csv', delimiter=';')"
   ],
   "metadata": {
    "collapsed": false,
    "ExecuteTime": {
     "end_time": "2024-05-03T20:00:54.720415900Z",
     "start_time": "2024-05-03T20:00:48.004476100Z"
    }
   },
   "id": "a5f792c48a7c7d90"
  },
  {
   "cell_type": "code",
   "execution_count": 3,
   "outputs": [
    {
     "data": {
      "text/plain": "        Unnamed: 0                               uid  experimentVariant  \\\n0                1  c4ca4238a0b923820dcc509a6f75849b                  1   \n1                2  c81e728d9d4c2f636f067f89cc14862c                  0   \n2                3  eccbc87e4b5ce2fe28308fd9f2a7baf3                  1   \n3                4  a87ff679a2f3e71d9181a67b7542122c                  1   \n4                5  e4da3b7fbbce2345d7772b0674a318d5                  1   \n...            ...                               ...                ...   \n127013      127014  d1f082ede77b17a99a9b0b240daf7bdf                  0   \n127014      127015  94f0d540830ccdc6b29c1938eea445cc                  0   \n127015      127016  709f74cf9721328e98be6f216e8a05a8                  1   \n127016      127017  1767ae3f8ffec269d9ed0ac0ede68d90                  1   \n127017      127018  8dd8503c49b5e8c6aaea1ed7f0c49765                  1   \n\n       version  purchase  \n0       v2.8.0         0  \n1       v2.9.0         0  \n2       v2.9.0         0  \n3       v2.8.0         0  \n4       v2.8.0         0  \n...        ...       ...  \n127013  v2.8.0         0  \n127014  v2.8.0         0  \n127015  v2.9.0         0  \n127016  v2.8.0         0  \n127017  v2.8.0         0  \n\n[127018 rows x 5 columns]",
      "text/html": "<div>\n<style scoped>\n    .dataframe tbody tr th:only-of-type {\n        vertical-align: middle;\n    }\n\n    .dataframe tbody tr th {\n        vertical-align: top;\n    }\n\n    .dataframe thead th {\n        text-align: right;\n    }\n</style>\n<table border=\"1\" class=\"dataframe\">\n  <thead>\n    <tr style=\"text-align: right;\">\n      <th></th>\n      <th>Unnamed: 0</th>\n      <th>uid</th>\n      <th>experimentVariant</th>\n      <th>version</th>\n      <th>purchase</th>\n    </tr>\n  </thead>\n  <tbody>\n    <tr>\n      <th>0</th>\n      <td>1</td>\n      <td>c4ca4238a0b923820dcc509a6f75849b</td>\n      <td>1</td>\n      <td>v2.8.0</td>\n      <td>0</td>\n    </tr>\n    <tr>\n      <th>1</th>\n      <td>2</td>\n      <td>c81e728d9d4c2f636f067f89cc14862c</td>\n      <td>0</td>\n      <td>v2.9.0</td>\n      <td>0</td>\n    </tr>\n    <tr>\n      <th>2</th>\n      <td>3</td>\n      <td>eccbc87e4b5ce2fe28308fd9f2a7baf3</td>\n      <td>1</td>\n      <td>v2.9.0</td>\n      <td>0</td>\n    </tr>\n    <tr>\n      <th>3</th>\n      <td>4</td>\n      <td>a87ff679a2f3e71d9181a67b7542122c</td>\n      <td>1</td>\n      <td>v2.8.0</td>\n      <td>0</td>\n    </tr>\n    <tr>\n      <th>4</th>\n      <td>5</td>\n      <td>e4da3b7fbbce2345d7772b0674a318d5</td>\n      <td>1</td>\n      <td>v2.8.0</td>\n      <td>0</td>\n    </tr>\n    <tr>\n      <th>...</th>\n      <td>...</td>\n      <td>...</td>\n      <td>...</td>\n      <td>...</td>\n      <td>...</td>\n    </tr>\n    <tr>\n      <th>127013</th>\n      <td>127014</td>\n      <td>d1f082ede77b17a99a9b0b240daf7bdf</td>\n      <td>0</td>\n      <td>v2.8.0</td>\n      <td>0</td>\n    </tr>\n    <tr>\n      <th>127014</th>\n      <td>127015</td>\n      <td>94f0d540830ccdc6b29c1938eea445cc</td>\n      <td>0</td>\n      <td>v2.8.0</td>\n      <td>0</td>\n    </tr>\n    <tr>\n      <th>127015</th>\n      <td>127016</td>\n      <td>709f74cf9721328e98be6f216e8a05a8</td>\n      <td>1</td>\n      <td>v2.9.0</td>\n      <td>0</td>\n    </tr>\n    <tr>\n      <th>127016</th>\n      <td>127017</td>\n      <td>1767ae3f8ffec269d9ed0ac0ede68d90</td>\n      <td>1</td>\n      <td>v2.8.0</td>\n      <td>0</td>\n    </tr>\n    <tr>\n      <th>127017</th>\n      <td>127018</td>\n      <td>8dd8503c49b5e8c6aaea1ed7f0c49765</td>\n      <td>1</td>\n      <td>v2.8.0</td>\n      <td>0</td>\n    </tr>\n  </tbody>\n</table>\n<p>127018 rows × 5 columns</p>\n</div>"
     },
     "execution_count": 3,
     "metadata": {},
     "output_type": "execute_result"
    }
   ],
   "source": [
    "imported_data"
   ],
   "metadata": {
    "collapsed": false,
    "ExecuteTime": {
     "end_time": "2024-05-03T20:00:54.758290Z",
     "start_time": "2024-05-03T20:00:54.725398900Z"
    }
   },
   "id": "6132582228f343db"
  },
  {
   "cell_type": "code",
   "execution_count": 4,
   "outputs": [],
   "source": [
    "def get_AA_res(df, \n",
    "               n_iter=10000, \n",
    "               n_in_sample=1000):\n",
    "    \n",
    "    res_list=[]\n",
    "    one_list=[]\n",
    "    \n",
    "    for i in range(n_iter):\n",
    "        group_A_1 = np.random.choice(df[df['experimentVariant']==0]['purchase'],size=n_in_sample, replace=False)\n",
    "        group_A_2 = np.random.choice(df[df['experimentVariant']==1]['purchase'],size=n_in_sample, replace=False)\n",
    "        \n",
    "        _, p_value = mannwhitneyu(group_A_1, group_A_2)\n",
    "        \n",
    "        res_list.append(p_value)\n",
    "        one_list.append(p_value<0.05)\n",
    "        \n",
    "    return res_list, np.mean(one_list)"
   ],
   "metadata": {
    "collapsed": false,
    "ExecuteTime": {
     "end_time": "2024-05-03T20:00:54.776229200Z",
     "start_time": "2024-05-03T20:00:54.759286200Z"
    }
   },
   "id": "8400169c56b3abe1"
  },
  {
   "cell_type": "code",
   "execution_count": 5,
   "outputs": [],
   "source": [
    "res_list, FP = get_AA_res(imported_data)"
   ],
   "metadata": {
    "collapsed": false,
    "ExecuteTime": {
     "end_time": "2024-05-03T20:03:11.566794300Z",
     "start_time": "2024-05-03T20:00:54.772243500Z"
    }
   },
   "id": "ec3ce1a651e0a814"
  },
  {
   "cell_type": "code",
   "execution_count": 6,
   "outputs": [
    {
     "data": {
      "text/plain": "0.9323"
     },
     "execution_count": 6,
     "metadata": {},
     "output_type": "execute_result"
    }
   ],
   "source": [
    "FP"
   ],
   "metadata": {
    "collapsed": false,
    "ExecuteTime": {
     "end_time": "2024-05-03T20:03:11.588237600Z",
     "start_time": "2024-05-03T20:03:11.569784800Z"
    }
   },
   "id": "7c8ba2d835992b09"
  },
  {
   "cell_type": "markdown",
   "source": [
    "*FPR > 0.05*"
   ],
   "metadata": {
    "collapsed": false
   },
   "id": "c4a83d5094279edd"
  },
  {
   "cell_type": "code",
   "execution_count": 7,
   "outputs": [
    {
     "data": {
      "text/plain": "<Axes: ylabel='Count'>"
     },
     "execution_count": 7,
     "metadata": {},
     "output_type": "execute_result"
    },
    {
     "data": {
      "text/plain": "<Figure size 640x480 with 1 Axes>",
      "image/png": "[encoded data removed]"
     },
     "metadata": {},
     "output_type": "display_data"
    }
   ],
   "source": [
    "sns.histplot(res_list)"
   ],
   "metadata": {
    "collapsed": false,
    "ExecuteTime": {
     "end_time": "2024-05-03T20:03:14.211346Z",
     "start_time": "2024-05-03T20:03:11.585247400Z"
    }
   },
   "id": "6a1185409af4f892"
  },
  {
   "cell_type": "markdown",
   "source": [
    "*Бачимо викид*"
   ],
   "metadata": {
    "collapsed": false
   },
   "id": "cea9f79f96dad249"
  },
  {
   "cell_type": "code",
   "execution_count": 8,
   "outputs": [
    {
     "data": {
      "text/plain": "   experimentVariant   version  purchase\n0                  0    v2.8.0  0.000993\n1                  0    v2.9.0  0.074658\n2                  0  v3.7.4.0  0.059943\n3                  0  v3.8.0.0  0.057604\n4                  1    v2.8.0  0.045606\n5                  1    v2.9.0  0.071304\n6                  1  v3.7.4.0  0.063018\n7                  1  v3.8.0.0  0.062848",
      "text/html": "<div>\n<style scoped>\n    .dataframe tbody tr th:only-of-type {\n        vertical-align: middle;\n    }\n\n    .dataframe tbody tr th {\n        vertical-align: top;\n    }\n\n    .dataframe thead th {\n        text-align: right;\n    }\n</style>\n<table border=\"1\" class=\"dataframe\">\n  <thead>\n    <tr style=\"text-align: right;\">\n      <th></th>\n      <th>experimentVariant</th>\n      <th>version</th>\n      <th>purchase</th>\n    </tr>\n  </thead>\n  <tbody>\n    <tr>\n      <th>0</th>\n      <td>0</td>\n      <td>v2.8.0</td>\n      <td>0.000993</td>\n    </tr>\n    <tr>\n      <th>1</th>\n      <td>0</td>\n      <td>v2.9.0</td>\n      <td>0.074658</td>\n    </tr>\n    <tr>\n      <th>2</th>\n      <td>0</td>\n      <td>v3.7.4.0</td>\n      <td>0.059943</td>\n    </tr>\n    <tr>\n      <th>3</th>\n      <td>0</td>\n      <td>v3.8.0.0</td>\n      <td>0.057604</td>\n    </tr>\n    <tr>\n      <th>4</th>\n      <td>1</td>\n      <td>v2.8.0</td>\n      <td>0.045606</td>\n    </tr>\n    <tr>\n      <th>5</th>\n      <td>1</td>\n      <td>v2.9.0</td>\n      <td>0.071304</td>\n    </tr>\n    <tr>\n      <th>6</th>\n      <td>1</td>\n      <td>v3.7.4.0</td>\n      <td>0.063018</td>\n    </tr>\n    <tr>\n      <th>7</th>\n      <td>1</td>\n      <td>v3.8.0.0</td>\n      <td>0.062848</td>\n    </tr>\n  </tbody>\n</table>\n</div>"
     },
     "execution_count": 8,
     "metadata": {},
     "output_type": "execute_result"
    }
   ],
   "source": [
    "imported_data.groupby(by=['experimentVariant', 'version'], as_index=False)['purchase'].mean()"
   ],
   "metadata": {
    "collapsed": false,
    "ExecuteTime": {
     "end_time": "2024-05-03T20:03:14.506359800Z",
     "start_time": "2024-05-03T20:03:14.211346Z"
    }
   },
   "id": "8f02ccafbef71d29"
  },
  {
   "cell_type": "markdown",
   "source": [
    "*Бачимо що середнє значення купівель для версії 2.8.0 відрізняється від інших* "
   ],
   "metadata": {
    "collapsed": false
   },
   "id": "1041601817afd713"
  },
  {
   "cell_type": "code",
   "execution_count": 9,
   "outputs": [
    {
     "name": "stdout",
     "output_type": "stream",
     "text": [
      "P-значення для кожної версії додатка:\n",
      "Версія v2.8.0: 0.0\n",
      "Версія v2.9.0: 0.3183089516720744\n",
      "Версія v3.7.4.0: 0.5568886771079735\n",
      "Версія v3.8.0.0: 0.23186933664059722\n"
     ]
    }
   ],
   "source": [
    "p_values_by_version = {}\n",
    "\n",
    "grouped_data = imported_data.groupby('version')\n",
    "\n",
    "for version, data in grouped_data:\n",
    "    t_statistic, p_value = ttest_ind(data[data['experimentVariant'] == 0]['purchase'],\n",
    "                                      data[data['experimentVariant'] == 1]['purchase'])\n",
    "    p_values_by_version[version] = p_value\n",
    "\n",
    "print(\"P-значення для кожної версії додатка:\")\n",
    "for version, p_value in p_values_by_version.items():\n",
    "    print(f\"Версія {version}: {p_value}\")"
   ],
   "metadata": {
    "collapsed": false,
    "ExecuteTime": {
     "end_time": "2024-05-03T20:03:14.531276Z",
     "start_time": "2024-05-03T20:03:14.295065400Z"
    }
   },
   "id": "a311da331f121656"
  },
  {
   "cell_type": "code",
   "execution_count": 10,
   "outputs": [],
   "source": [
    "new_df = imported_data[imported_data['version'] != 'v2.8.0']"
   ],
   "metadata": {
    "collapsed": false,
    "ExecuteTime": {
     "end_time": "2024-05-03T20:03:14.572139Z",
     "start_time": "2024-05-03T20:03:14.337922300Z"
    }
   },
   "id": "2d283a08a45c27a3"
  },
  {
   "cell_type": "markdown",
   "source": [
    "*Прибираємо 2.8.0*"
   ],
   "metadata": {
    "collapsed": false
   },
   "id": "adc3fc6615675354"
  },
  {
   "cell_type": "code",
   "execution_count": 11,
   "outputs": [],
   "source": [
    "res_list_new, FP_new = get_AA_res(new_df)"
   ],
   "metadata": {
    "collapsed": false,
    "ExecuteTime": {
     "end_time": "2024-05-03T20:04:15.595642100Z",
     "start_time": "2024-05-03T20:03:14.525296400Z"
    }
   },
   "id": "3766962595ac0f85"
  },
  {
   "cell_type": "code",
   "execution_count": 12,
   "outputs": [
    {
     "data": {
      "text/plain": "0.0435"
     },
     "execution_count": 12,
     "metadata": {},
     "output_type": "execute_result"
    }
   ],
   "source": [
    "FP_new"
   ],
   "metadata": {
    "collapsed": false,
    "ExecuteTime": {
     "end_time": "2024-05-03T20:04:15.613582900Z",
     "start_time": "2024-05-03T20:04:15.597636Z"
    }
   },
   "id": "ecbec010e6afae2a"
  },
  {
   "cell_type": "markdown",
   "source": [
    "*Новий FPR < 0.05. Отже версія 2.8.0 не коректно впливала на результати АА тесту*"
   ],
   "metadata": {
    "collapsed": false
   },
   "id": "158a6456ff4e6a10"
  },
  {
   "cell_type": "code",
   "execution_count": null,
   "outputs": [],
   "source": [],
   "metadata": {
    "collapsed": false
   },
   "id": "bff0f1161a7f328a"
  }
 ],
 "metadata": {
  "kernelspec": {
   "display_name": "Python 3",
   "language": "python",
   "name": "python3"
  },
  "language_info": {
   "codemirror_mode": {
    "name": "ipython",
    "version": 2
   },
   "file_extension": ".py",
   "mimetype": "text/x-python",
   "name": "python",
   "nbconvert_exporter": "python",
   "pygments_lexer": "ipython2",
   "version": "2.7.6"
  }
 },
 "nbformat": 4,
 "nbformat_minor": 5
}
